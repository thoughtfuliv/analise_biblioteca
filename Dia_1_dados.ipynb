{
 "cells": [
  {
   "cell_type": "markdown",
   "metadata": {},
   "source": [
    "## Dia 01: Importando os dados necessários"
   ]
  },
  {
   "cell_type": "markdown",
   "metadata": {},
   "source": [
    "1 - Importando a biblioteca pandas"
   ]
  },
  {
   "cell_type": "code",
   "execution_count": 5,
   "metadata": {},
   "outputs": [],
   "source": [
    "import pandas as pd"
   ]
  },
  {
   "cell_type": "markdown",
   "metadata": {},
   "source": [
    "2 - Lendo os arquivos csv"
   ]
  },
  {
   "cell_type": "code",
   "execution_count": 19,
   "metadata": {},
   "outputs": [],
   "source": [
    "\n",
    "dados_20101 = pd.read_csv(\"C:/Users/paula/Documents/PROJETO_BIBLIOTECA/1. Dados/dados_emprestimos/emprestimos-20101.csv\")\n",
    "dados_20102 = pd.read_csv(\"C:/Users/paula/Documents/PROJETO_BIBLIOTECA/1. Dados/dados_emprestimos/emprestimos-20102.csv\")\n",
    "\n",
    "dados_20111 = pd.read_csv(\"C:/Users/paula/Documents/PROJETO_BIBLIOTECA/1. Dados/dados_emprestimos/emprestimos-20111.csv\")\n",
    "dados_20112 = pd.read_csv(\"C:/Users/paula/Documents/PROJETO_BIBLIOTECA/1. Dados/dados_emprestimos/emprestimos-20112.csv\")\n",
    "\n",
    "dados_20121 = pd.read_csv(\"C:/Users/paula/Documents/PROJETO_BIBLIOTECA/1. Dados/dados_emprestimos/emprestimos-20121.csv\")\n",
    "dados_20122 = pd.read_csv(\"C:/Users/paula/Documents/PROJETO_BIBLIOTECA/1. Dados/dados_emprestimos/emprestimos-20122.csv\")\n",
    "\n",
    "dados_20131 = pd.read_csv(\"C:/Users/paula/Documents/PROJETO_BIBLIOTECA/1. Dados/dados_emprestimos/emprestimos-20131.csv\")\n",
    "dados_20132 = pd.read_csv(\"C:/Users/paula/Documents/PROJETO_BIBLIOTECA/1. Dados/dados_emprestimos/emprestimos-20132.csv\")\n",
    "\n",
    "dados_20141 = pd.read_csv(\"C:/Users/paula/Documents/PROJETO_BIBLIOTECA/1. Dados/dados_emprestimos/emprestimos-20141.csv\")\n",
    "dados_20142 = pd.read_csv(\"C:/Users/paula/Documents/PROJETO_BIBLIOTECA/1. Dados/dados_emprestimos/emprestimos-20142.csv\")\n",
    "\n",
    "dados_20151 = pd.read_csv(\"C:/Users/paula/Documents/PROJETO_BIBLIOTECA/1. Dados/dados_emprestimos/emprestimos-20151.csv\")\n",
    "dados_20152 = pd.read_csv(\"C:/Users/paula/Documents/PROJETO_BIBLIOTECA/1. Dados/dados_emprestimos/emprestimos-20152.csv\")\n",
    "\n",
    "dados_20161 = pd.read_csv(\"C:/Users/paula/Documents/PROJETO_BIBLIOTECA/1. Dados/dados_emprestimos/emprestimos-20161.csv\")\n",
    "dados_20162 = pd.read_csv(\"C:/Users/paula/Documents/PROJETO_BIBLIOTECA/1. Dados/dados_emprestimos/emprestimos-20162.csv\")\n",
    "\n",
    "dados_20171 = pd.read_csv(\"C:/Users/paula/Documents/PROJETO_BIBLIOTECA/1. Dados/dados_emprestimos/emprestimos-20171.csv\")\n",
    "dados_20172 = pd.read_csv(\"C:/Users/paula/Documents/PROJETO_BIBLIOTECA/1. Dados/dados_emprestimos/emprestimos-20172.csv\")\n",
    "\n",
    "dados_20181 = pd.read_csv(\"C:/Users/paula/Documents/PROJETO_BIBLIOTECA/1. Dados/dados_emprestimos/emprestimos-20181.csv\")\n",
    "dados_20182 = pd.read_csv(\"C:/Users/paula/Documents/PROJETO_BIBLIOTECA/1. Dados/dados_emprestimos/emprestimos-20182.csv\")\n",
    "\n",
    "dados_20191 = pd.read_csv(\"C:/Users/paula/Documents/PROJETO_BIBLIOTECA/1. Dados/dados_emprestimos/emprestimos-20191.csv\")\n",
    "dados_20192 = pd.read_csv(\"C:/Users/paula/Documents/PROJETO_BIBLIOTECA/1. Dados/dados_emprestimos/emprestimos-20192.csv\")\n",
    "\n",
    "dados_20201 = pd.read_csv(\"C:/Users/paula/Documents/PROJETO_BIBLIOTECA/1. Dados/dados_emprestimos/emprestimos-20201.csv\")\n",
    "\n",
    "dados_exemplares = pd.read_parquet(\"C:/Users/paula/Documents/PROJETO_BIBLIOTECA/1. Dados/dados_exemplares.parquet\")\n",
    "\n",
    "\n"
   ]
  },
  {
   "cell_type": "markdown",
   "metadata": {},
   "source": [
    "3 - Juntando os dataframes de dados de empréstimo"
   ]
  },
  {
   "cell_type": "code",
   "execution_count": 20,
   "metadata": {},
   "outputs": [],
   "source": [
    "dados_consolidados = pd.concat([dados_20101,dados_20102,dados_20111,dados_20112,dados_20121,dados_20122,dados_20131,dados_20132,dados_20141,dados_20142,\n",
    "                                dados_20151,dados_20152,dados_20161,dados_20162,dados_20171,dados_20172,dados_20181,dados_20182,dados_20191,dados_20192,dados_20201],ignore_index=True)\n"
   ]
  },
  {
   "cell_type": "markdown",
   "metadata": {},
   "source": [
    "4 - Tratando os dados\n"
   ]
  },
  {
   "cell_type": "code",
   "execution_count": 22,
   "metadata": {},
   "outputs": [],
   "source": [
    "dados_consolidados = dados_consolidados.drop_duplicates()"
   ]
  },
  {
   "cell_type": "code",
   "execution_count": 23,
   "metadata": {},
   "outputs": [
    {
     "data": {
      "text/plain": [
       "id_emprestimo  codigo_barras  data_renovacao                 data_emprestimo                data_devolucao                 matricula_ou_siape  tipo_vinculo_usuario  \n",
       "709686         2006017618     2010/01/26 08:07:01.738000000  2010/01/04 08:08:44.081000000  2010/02/25 07:36:25.800000000  2.008112e+09        ALUNO DE PÓS-GRADUAÇÃO    1\n",
       "2336122        2011033079     2016/11/21 02:01:58.488000000  2016/11/10 17:00:12.989000000  2016/12/02 14:21:49.000000000  2.016023e+09        ALUNO DE GRADUAÇÃO        1\n",
       "2336103        2014085936     2016/11/25 19:25:36.215000000  2016/11/10 16:54:52.447000000  2016/12/13 14:30:52.000000000  2.014047e+09        ALUNO DE GRADUAÇÃO        1\n",
       "2336104        2011027960     2016/11/23 17:27:54.642000000  2016/11/10 16:55:17.956000000  2016/11/28 10:32:38.000000000  2.016083e+09        ALUNO DE GRADUAÇÃO        1\n",
       "2336105        2014000897     2016/12/02 15:02:53.356000000  2016/11/10 16:55:19.851000000  2016/12/23 13:53:23.000000000  2.014071e+09        ALUNO DE GRADUAÇÃO        1\n",
       "                                                                                                                                                                        ..\n",
       "1443383        2010043058     2013/03/21 14:06:09.837000000  2013/03/07 11:17:25.008000000  2013/03/22 11:31:20.000000000  2.010023e+09        ALUNO DE GRADUAÇÃO        1\n",
       "1443387        L147018        2013/03/21 19:43:42.047000000  2013/03/07 11:20:01.159000000  2013/04/04 10:50:22.000000000  2.013053e+09        ALUNO DE GRADUAÇÃO        1\n",
       "1443389        2011018954     2013/03/22 13:18:55.037000000  2013/03/07 11:21:26.480000000  2013/04/08 20:26:07.000000000  2.010046e+09        ALUNO DE GRADUAÇÃO        1\n",
       "1443390        2009056314     2013/03/21 09:28:45.689000000  2013/03/07 11:21:28.899000000  2013/04/05 18:18:00.000000000  2.011015e+09        ALUNO DE GRADUAÇÃO        1\n",
       "10322328       2014070441     2018/01/15 12:26:00.697000000  2017/12/29 18:21:09.060000000  2018/01/31 18:50:25.000000000  2.014063e+09        ALUNO DE GRADUAÇÃO        1\n",
       "Name: count, Length: 968028, dtype: int64"
      ]
     },
     "execution_count": 23,
     "metadata": {},
     "output_type": "execute_result"
    }
   ],
   "source": [
    "dados_consolidados.value_counts()"
   ]
  },
  {
   "cell_type": "markdown",
   "metadata": {},
   "source": [
    "5 - Mesclando os dados"
   ]
  },
  {
   "cell_type": "code",
   "execution_count": null,
   "metadata": {},
   "outputs": [],
   "source": [
    "base_de_dados = pd.merge(dados_consolidados, dados_exemplares, on='codigo_barras')\n",
    "base_de_dados"
   ]
  }
 ],
 "metadata": {
  "kernelspec": {
   "display_name": "Python 3",
   "language": "python",
   "name": "python3"
  },
  "language_info": {
   "codemirror_mode": {
    "name": "ipython",
    "version": 3
   },
   "file_extension": ".py",
   "mimetype": "text/x-python",
   "name": "python",
   "nbconvert_exporter": "python",
   "pygments_lexer": "ipython3",
   "version": "3.11.9"
  }
 },
 "nbformat": 4,
 "nbformat_minor": 2
}
